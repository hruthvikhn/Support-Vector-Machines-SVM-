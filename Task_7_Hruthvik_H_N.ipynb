{
  "nbformat": 4,
  "nbformat_minor": 0,
  "metadata": {
    "colab": {
      "provenance": []
    },
    "kernelspec": {
      "name": "python3",
      "display_name": "Python 3"
    },
    "language_info": {
      "name": "python"
    }
  },
  "cells": [
    {
      "cell_type": "code",
      "execution_count": 22,
      "metadata": {
        "id": "dEDrgvZHxzO0"
      },
      "outputs": [],
      "source": [
        "# Import all the necessary Libraries\n",
        "\n",
        "import pandas as pd\n",
        "import numpy as np\n",
        "import matplotlib.pyplot as plt\n",
        "from sklearn.model_selection import train_test_split, GridSearchCV, cross_val_score\n",
        "from sklearn.preprocessing import StandardScaler, LabelEncoder\n",
        "from sklearn.svm import SVC\n",
        "from sklearn.metrics import classification_report, confusion_matrix, accuracy_score"
      ]
    },
    {
      "cell_type": "code",
      "source": [
        "# Load the Dataset\n",
        "\n",
        "df = pd.read_csv(\"data.csv\")\n",
        "print(\"Dataset shape:\", df.shape)\n",
        "print(df.head())"
      ],
      "metadata": {
        "colab": {
          "base_uri": "https://localhost:8080/"
        },
        "id": "b_wD50yiyJ1O",
        "outputId": "a2249b23-15f2-4997-f45f-f685e9414bdc"
      },
      "execution_count": 23,
      "outputs": [
        {
          "output_type": "stream",
          "name": "stdout",
          "text": [
            "Dataset shape: (569, 33)\n",
            "         id diagnosis  radius_mean  texture_mean  perimeter_mean  area_mean  \\\n",
            "0    842302         M        17.99         10.38          122.80     1001.0   \n",
            "1    842517         M        20.57         17.77          132.90     1326.0   \n",
            "2  84300903         M        19.69         21.25          130.00     1203.0   \n",
            "3  84348301         M        11.42         20.38           77.58      386.1   \n",
            "4  84358402         M        20.29         14.34          135.10     1297.0   \n",
            "\n",
            "   smoothness_mean  compactness_mean  concavity_mean  concave points_mean  \\\n",
            "0          0.11840           0.27760          0.3001              0.14710   \n",
            "1          0.08474           0.07864          0.0869              0.07017   \n",
            "2          0.10960           0.15990          0.1974              0.12790   \n",
            "3          0.14250           0.28390          0.2414              0.10520   \n",
            "4          0.10030           0.13280          0.1980              0.10430   \n",
            "\n",
            "   ...  texture_worst  perimeter_worst  area_worst  smoothness_worst  \\\n",
            "0  ...          17.33           184.60      2019.0            0.1622   \n",
            "1  ...          23.41           158.80      1956.0            0.1238   \n",
            "2  ...          25.53           152.50      1709.0            0.1444   \n",
            "3  ...          26.50            98.87       567.7            0.2098   \n",
            "4  ...          16.67           152.20      1575.0            0.1374   \n",
            "\n",
            "   compactness_worst  concavity_worst  concave points_worst  symmetry_worst  \\\n",
            "0             0.6656           0.7119                0.2654          0.4601   \n",
            "1             0.1866           0.2416                0.1860          0.2750   \n",
            "2             0.4245           0.4504                0.2430          0.3613   \n",
            "3             0.8663           0.6869                0.2575          0.6638   \n",
            "4             0.2050           0.4000                0.1625          0.2364   \n",
            "\n",
            "   fractal_dimension_worst  Unnamed: 32  \n",
            "0                  0.11890          NaN  \n",
            "1                  0.08902          NaN  \n",
            "2                  0.08758          NaN  \n",
            "3                  0.17300          NaN  \n",
            "4                  0.07678          NaN  \n",
            "\n",
            "[5 rows x 33 columns]\n"
          ]
        }
      ]
    },
    {
      "cell_type": "code",
      "source": [
        "# NaN-proof Preprocessing\n",
        "df_encoded = df.copy()\n",
        "\n",
        "# Handling the categorical columns\n",
        "for col in df_encoded.select_dtypes(include=['object']).columns:\n",
        "    df_encoded[col] = df_encoded[col].fillna(df_encoded[col].mode()[0])\n",
        "    le = LabelEncoder()\n",
        "    df_encoded[col] = le.fit_transform(df_encoded[col])\n",
        "\n",
        "# Force all columns to numeric\n",
        "df_encoded = df_encoded.apply(pd.to_numeric, errors='coerce')\n",
        "\n",
        "# Filling any remaining NaNs with column mean\n",
        "df_encoded = df_encoded.fillna(df_encoded.mean())\n",
        "\n",
        "# Final fallback: replacing any still-remaining NaNs with 0\n",
        "if df_encoded.isnull().sum().sum() > 0:\n",
        "    print(\"⚠ Still NaNs present! Filling with 0 as fallback.\")\n",
        "    df_encoded = df_encoded.fillna(0)\n",
        "\n",
        "# Preparing Features (X) & Target (y)\n",
        "X = df_encoded.drop('diagnosis', axis=1).values  # Change if target name differs\n",
        "y = df_encoded['diagnosis'].values\n",
        "\n",
        "# Scale features\n",
        "scaler = StandardScaler()\n",
        "X_scaled = scaler.fit_transform(X)\n",
        "\n",
        "# Train-test split\n",
        "X_train, X_test, y_train, y_test = train_test_split(\n",
        "    X_scaled, y, test_size=0.2, random_state=42\n",
        ")\n",
        "\n",
        "# Double-check for NaNs\n",
        "print(\"NaNs in X_train:\", np.isnan(X_train).sum())\n",
        "print(\"NaNs in X_test:\", np.isnan(X_test).sum())\n"
      ],
      "metadata": {
        "colab": {
          "base_uri": "https://localhost:8080/"
        },
        "id": "5NVfbGrgyJf-",
        "outputId": "57019d35-88e2-47d6-b363-288fa668e435"
      },
      "execution_count": 34,
      "outputs": [
        {
          "output_type": "stream",
          "name": "stdout",
          "text": [
            "⚠ Still NaNs present! Filling with 0 as fallback.\n",
            "NaNs in X_train: 0\n",
            "NaNs in X_test: 0\n"
          ]
        }
      ]
    },
    {
      "cell_type": "code",
      "source": [
        "# Linear Kernel SVM\n",
        "\n",
        "linear_svm = SVC(kernel='linear', C=1)\n",
        "linear_svm.fit(X_train, y_train)\n",
        "y_pred_linear = linear_svm.predict(X_test)\n",
        "\n",
        "print(\"\\n--- Linear Kernel SVM ---\")\n",
        "print(confusion_matrix(y_test, y_pred_linear))\n",
        "print(classification_report(y_test, y_pred_linear))\n",
        "print(\"Accuracy:\", accuracy_score(y_test, y_pred_linear))\n"
      ],
      "metadata": {
        "colab": {
          "base_uri": "https://localhost:8080/"
        },
        "id": "NcW6OaDYyJc4",
        "outputId": "3a4dd820-f488-44ad-9331-539ffee52b4c"
      },
      "execution_count": 35,
      "outputs": [
        {
          "output_type": "stream",
          "name": "stdout",
          "text": [
            "\n",
            "--- Linear Kernel SVM ---\n",
            "[[68  3]\n",
            " [ 2 41]]\n",
            "              precision    recall  f1-score   support\n",
            "\n",
            "           0       0.97      0.96      0.96        71\n",
            "           1       0.93      0.95      0.94        43\n",
            "\n",
            "    accuracy                           0.96       114\n",
            "   macro avg       0.95      0.96      0.95       114\n",
            "weighted avg       0.96      0.96      0.96       114\n",
            "\n",
            "Accuracy: 0.956140350877193\n"
          ]
        }
      ]
    },
    {
      "cell_type": "code",
      "source": [
        "# RBF Kernel SVM\n",
        "\n",
        "rbf_svm = SVC(kernel='rbf', C=1, gamma='scale')\n",
        "rbf_svm.fit(X_train, y_train)\n",
        "y_pred_rbf = rbf_svm.predict(X_test)\n",
        "\n",
        "print(\"\\n--- RBF Kernel SVM ---\")\n",
        "print(confusion_matrix(y_test, y_pred_rbf))\n",
        "print(classification_report(y_test, y_pred_rbf))\n",
        "print(\"Accuracy:\", accuracy_score(y_test, y_pred_rbf))\n"
      ],
      "metadata": {
        "colab": {
          "base_uri": "https://localhost:8080/"
        },
        "id": "_Li7mYST3S8s",
        "outputId": "15e46919-c07c-426b-f802-6de021212f95"
      },
      "execution_count": 36,
      "outputs": [
        {
          "output_type": "stream",
          "name": "stdout",
          "text": [
            "\n",
            "--- RBF Kernel SVM ---\n",
            "[[71  0]\n",
            " [ 2 41]]\n",
            "              precision    recall  f1-score   support\n",
            "\n",
            "           0       0.97      1.00      0.99        71\n",
            "           1       1.00      0.95      0.98        43\n",
            "\n",
            "    accuracy                           0.98       114\n",
            "   macro avg       0.99      0.98      0.98       114\n",
            "weighted avg       0.98      0.98      0.98       114\n",
            "\n",
            "Accuracy: 0.9824561403508771\n"
          ]
        }
      ]
    },
    {
      "cell_type": "code",
      "source": [
        "# Hyperparameter Tuning\n",
        "param_grid = {\n",
        "    'C': [0.1, 1, 10, 100],\n",
        "    'gamma': [1, 0.1, 0.01, 0.001],\n",
        "    'kernel': ['rbf', 'linear']\n",
        "}\n",
        "grid = GridSearchCV(SVC(), param_grid, refit=True, verbose=1, cv=5)\n",
        "grid.fit(X_train, y_train)\n",
        "\n",
        "print(\"\\nBest Parameters:\", grid.best_params_)\n",
        "print(\"Best Estimator:\", grid.best_estimator_)\n",
        "\n",
        "# Evaluate tuned model\n",
        "y_pred_best = grid.predict(X_test)\n",
        "print(\"\\n--- Tuned SVM Model ---\")\n",
        "print(confusion_matrix(y_test, y_pred_best))\n",
        "print(classification_report(y_test, y_pred_best))\n",
        "print(\"Accuracy:\", accuracy_score(y_test, y_pred_best))\n"
      ],
      "metadata": {
        "colab": {
          "base_uri": "https://localhost:8080/"
        },
        "id": "lQTcyquc3S3m",
        "outputId": "4b9b37c1-746e-4dc9-84c8-9a44f70c5687"
      },
      "execution_count": 37,
      "outputs": [
        {
          "output_type": "stream",
          "name": "stdout",
          "text": [
            "Fitting 5 folds for each of 32 candidates, totalling 160 fits\n",
            "\n",
            "Best Parameters: {'C': 0.1, 'gamma': 1, 'kernel': 'linear'}\n",
            "Best Estimator: SVC(C=0.1, gamma=1, kernel='linear')\n",
            "\n",
            "--- Tuned SVM Model ---\n",
            "[[71  0]\n",
            " [ 2 41]]\n",
            "              precision    recall  f1-score   support\n",
            "\n",
            "           0       0.97      1.00      0.99        71\n",
            "           1       1.00      0.95      0.98        43\n",
            "\n",
            "    accuracy                           0.98       114\n",
            "   macro avg       0.99      0.98      0.98       114\n",
            "weighted avg       0.98      0.98      0.98       114\n",
            "\n",
            "Accuracy: 0.9824561403508771\n"
          ]
        }
      ]
    },
    {
      "cell_type": "code",
      "source": [
        "# Cross-validation\n",
        "scores = cross_val_score(grid.best_estimator_, X_scaled, y, cv=5)\n",
        "print(\"\\nCross-validation scores:\", scores)\n",
        "print(\"Mean CV Accuracy:\", scores.mean())\n"
      ],
      "metadata": {
        "colab": {
          "base_uri": "https://localhost:8080/"
        },
        "id": "lti0KuXf3Szc",
        "outputId": "803f1cf3-01cb-4fbb-d816-3b5d53b63f11"
      },
      "execution_count": 38,
      "outputs": [
        {
          "output_type": "stream",
          "name": "stdout",
          "text": [
            "\n",
            "Cross-validation scores: [0.97368421 0.97368421 0.98245614 0.96491228 0.98230088]\n",
            "Mean CV Accuracy: 0.9754075454122031\n"
          ]
        }
      ]
    },
    {
      "cell_type": "code",
      "source": [
        "# Decision Boundary Plot\n",
        "\n",
        "if X.shape[1] == 2:\n",
        "    def plot_decision_boundary(model, X, y, title):\n",
        "        h = .02\n",
        "        x_min, x_max = X[:, 0].min() - 1, X[:, 0].max() + 1\n",
        "        y_min, y_max = X[:, 1].min() - 1, X[:, 1].max() + 1\n",
        "        xx, yy = np.meshgrid(np.arange(x_min, x_max, h),\n",
        "                             np.arange(y_min, y_max, h))\n",
        "        Z = model.predict(np.c_[xx.ravel(), yy.ravel()])\n",
        "        Z = Z.reshape(xx.shape)\n",
        "        plt.contourf(xx, yy, Z, alpha=0.3)\n",
        "        plt.scatter(X[:, 0], X[:, 1], c=y, edgecolors='k', marker='o')\n",
        "        plt.title(title)\n",
        "        plt.show()\n",
        "\n",
        "    plot_decision_boundary(linear_svm, X_scaled, y, \"Linear SVM Decision Boundary\")\n",
        "    plot_decision_boundary(rbf_svm, X_scaled, y, \"RBF SVM Decision Boundary\")\n"
      ],
      "metadata": {
        "id": "DbmF5UNh3Sul"
      },
      "execution_count": 39,
      "outputs": []
    }
  ]
}